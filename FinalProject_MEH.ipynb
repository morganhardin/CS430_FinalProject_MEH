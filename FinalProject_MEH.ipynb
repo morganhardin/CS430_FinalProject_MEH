{
  "nbformat": 4,
  "nbformat_minor": 0,
  "metadata": {
    "colab": {
      "provenance": []
    },
    "kernelspec": {
      "name": "python3",
      "display_name": "Python 3"
    },
    "language_info": {
      "name": "python"
    },
    "accelerator": "GPU",
    "gpuClass": "standard"
  },
  "cells": [
    {
      "cell_type": "markdown",
      "source": [
        "## Importing the Libraries"
      ],
      "metadata": {
        "id": "jj_3ENNUA_bn"
      }
    },
    {
      "cell_type": "markdown",
      "source": [
        "These are all imported so that they can be used to manipulate and analyze the data from the imported csv file. The models from sklearn and tensorflow are imported to train and test the dataset."
      ],
      "metadata": {
        "id": "5XYH8dILEqrF"
      }
    },
    {
      "cell_type": "code",
      "execution_count": 1,
      "metadata": {
        "id": "WX5xid7rA9c-"
      },
      "outputs": [],
      "source": [
        "import pandas as pd\n",
        "import numpy as np\n",
        "import matplotlib.pyplot as plt\n",
        "import seaborn as sns\n",
        "\n",
        "from sklearn.linear_model import LogisticRegression\n",
        "from sklearn.ensemble import RandomForestClassifier\n",
        "from sklearn.tree import DecisionTreeClassifier\n",
        "from sklearn.svm import SVC\n",
        "from tensorflow.keras import Sequential\n",
        "from tensorflow.keras.layers import Dense\n",
        "\n",
        "from sklearn.metrics import mean_squared_error\n",
        "from sklearn.metrics import confusion_matrix, classification_report\n",
        "from prettytable import PrettyTable"
      ]
    },
    {
      "cell_type": "markdown",
      "source": [
        "## Reading the Dataset"
      ],
      "metadata": {
        "id": "CqLf8c4IBOzk"
      }
    },
    {
      "cell_type": "markdown",
      "source": [
        "`nasa` is created here by using pandas to read the csv file and pull all the data into one data frame."
      ],
      "metadata": {
        "id": "oDR1rSFzE8rY"
      }
    },
    {
      "cell_type": "code",
      "source": [
        "nasa = pd.read_csv('/content/drive/MyDrive/Colab Notebooks/CS 430 Machine Learning/FinalProject_MEH/nasa.csv')"
      ],
      "metadata": {
        "id": "7PHIK3t8BHSR"
      },
      "execution_count": 2,
      "outputs": []
    },
    {
      "cell_type": "markdown",
      "source": [
        "## Exploring the Dataset"
      ],
      "metadata": {
        "id": "jMrZ0qMCBZWh"
      }
    },
    {
      "cell_type": "markdown",
      "source": [
        "`nasa.head()` allows the user to see the first 5 rows of the dataset. `nasa.info()` allows the user to see the total number of entries, the datatypes of each column, how many entries are null / not null, and each column in the dataset."
      ],
      "metadata": {
        "id": "-BIIXO3_FYyb"
      }
    },
    {
      "cell_type": "code",
      "source": [
        "nasa.head()"
      ],
      "metadata": {
        "colab": {
          "base_uri": "https://localhost:8080/",
          "height": 331
        },
        "id": "7h_M1Mu4BVP0",
        "outputId": "4e67b5d3-bfc2-4896-cf28-c5df525aab00"
      },
      "execution_count": 3,
      "outputs": [
        {
          "output_type": "execute_result",
          "data": {
            "text/plain": [
              "   Neo Reference ID     Name  Absolute Magnitude  Est Dia in KM(min)  \\\n",
              "0           3703080  3703080                21.6            0.127220   \n",
              "1           3723955  3723955                21.3            0.146068   \n",
              "2           2446862  2446862                20.3            0.231502   \n",
              "3           3092506  3092506                27.4            0.008801   \n",
              "4           3514799  3514799                21.6            0.127220   \n",
              "\n",
              "   Est Dia in KM(max)  Est Dia in M(min)  Est Dia in M(max)  \\\n",
              "0            0.284472         127.219879         284.472297   \n",
              "1            0.326618         146.067964         326.617897   \n",
              "2            0.517654         231.502122         517.654482   \n",
              "3            0.019681           8.801465          19.680675   \n",
              "4            0.284472         127.219879         284.472297   \n",
              "\n",
              "   Est Dia in Miles(min)  Est Dia in Miles(max)  Est Dia in Feet(min)  ...  \\\n",
              "0               0.079051               0.176763            417.388066  ...   \n",
              "1               0.090762               0.202951            479.225620  ...   \n",
              "2               0.143849               0.321655            759.521423  ...   \n",
              "3               0.005469               0.012229             28.876199  ...   \n",
              "4               0.079051               0.176763            417.388066  ...   \n",
              "\n",
              "   Asc Node Longitude Orbital Period  Perihelion Distance  Perihelion Arg  \\\n",
              "0          314.373913     609.599786             0.808259       57.257470   \n",
              "1          136.717242     425.869294             0.718200      313.091975   \n",
              "2          259.475979     643.580228             0.950791      248.415038   \n",
              "3           57.173266     514.082140             0.983902       18.707701   \n",
              "4           84.629307     495.597821             0.967687      158.263596   \n",
              "\n",
              "   Aphelion Dist  Perihelion Time  Mean Anomaly  Mean Motion  Equinox  \\\n",
              "0       2.005764     2.458162e+06    264.837533     0.590551    J2000   \n",
              "1       1.497352     2.457795e+06    173.741112     0.845330    J2000   \n",
              "2       1.966857     2.458120e+06    292.893654     0.559371    J2000   \n",
              "3       1.527904     2.457902e+06     68.741007     0.700277    J2000   \n",
              "4       1.483543     2.457814e+06    135.142133     0.726395    J2000   \n",
              "\n",
              "   Hazardous  \n",
              "0       True  \n",
              "1      False  \n",
              "2       True  \n",
              "3      False  \n",
              "4       True  \n",
              "\n",
              "[5 rows x 40 columns]"
            ],
            "text/html": [
              "\n",
              "  <div id=\"df-88203903-a04e-428b-8b46-f5f4925a27e7\">\n",
              "    <div class=\"colab-df-container\">\n",
              "      <div>\n",
              "<style scoped>\n",
              "    .dataframe tbody tr th:only-of-type {\n",
              "        vertical-align: middle;\n",
              "    }\n",
              "\n",
              "    .dataframe tbody tr th {\n",
              "        vertical-align: top;\n",
              "    }\n",
              "\n",
              "    .dataframe thead th {\n",
              "        text-align: right;\n",
              "    }\n",
              "</style>\n",
              "<table border=\"1\" class=\"dataframe\">\n",
              "  <thead>\n",
              "    <tr style=\"text-align: right;\">\n",
              "      <th></th>\n",
              "      <th>Neo Reference ID</th>\n",
              "      <th>Name</th>\n",
              "      <th>Absolute Magnitude</th>\n",
              "      <th>Est Dia in KM(min)</th>\n",
              "      <th>Est Dia in KM(max)</th>\n",
              "      <th>Est Dia in M(min)</th>\n",
              "      <th>Est Dia in M(max)</th>\n",
              "      <th>Est Dia in Miles(min)</th>\n",
              "      <th>Est Dia in Miles(max)</th>\n",
              "      <th>Est Dia in Feet(min)</th>\n",
              "      <th>...</th>\n",
              "      <th>Asc Node Longitude</th>\n",
              "      <th>Orbital Period</th>\n",
              "      <th>Perihelion Distance</th>\n",
              "      <th>Perihelion Arg</th>\n",
              "      <th>Aphelion Dist</th>\n",
              "      <th>Perihelion Time</th>\n",
              "      <th>Mean Anomaly</th>\n",
              "      <th>Mean Motion</th>\n",
              "      <th>Equinox</th>\n",
              "      <th>Hazardous</th>\n",
              "    </tr>\n",
              "  </thead>\n",
              "  <tbody>\n",
              "    <tr>\n",
              "      <th>0</th>\n",
              "      <td>3703080</td>\n",
              "      <td>3703080</td>\n",
              "      <td>21.6</td>\n",
              "      <td>0.127220</td>\n",
              "      <td>0.284472</td>\n",
              "      <td>127.219879</td>\n",
              "      <td>284.472297</td>\n",
              "      <td>0.079051</td>\n",
              "      <td>0.176763</td>\n",
              "      <td>417.388066</td>\n",
              "      <td>...</td>\n",
              "      <td>314.373913</td>\n",
              "      <td>609.599786</td>\n",
              "      <td>0.808259</td>\n",
              "      <td>57.257470</td>\n",
              "      <td>2.005764</td>\n",
              "      <td>2.458162e+06</td>\n",
              "      <td>264.837533</td>\n",
              "      <td>0.590551</td>\n",
              "      <td>J2000</td>\n",
              "      <td>True</td>\n",
              "    </tr>\n",
              "    <tr>\n",
              "      <th>1</th>\n",
              "      <td>3723955</td>\n",
              "      <td>3723955</td>\n",
              "      <td>21.3</td>\n",
              "      <td>0.146068</td>\n",
              "      <td>0.326618</td>\n",
              "      <td>146.067964</td>\n",
              "      <td>326.617897</td>\n",
              "      <td>0.090762</td>\n",
              "      <td>0.202951</td>\n",
              "      <td>479.225620</td>\n",
              "      <td>...</td>\n",
              "      <td>136.717242</td>\n",
              "      <td>425.869294</td>\n",
              "      <td>0.718200</td>\n",
              "      <td>313.091975</td>\n",
              "      <td>1.497352</td>\n",
              "      <td>2.457795e+06</td>\n",
              "      <td>173.741112</td>\n",
              "      <td>0.845330</td>\n",
              "      <td>J2000</td>\n",
              "      <td>False</td>\n",
              "    </tr>\n",
              "    <tr>\n",
              "      <th>2</th>\n",
              "      <td>2446862</td>\n",
              "      <td>2446862</td>\n",
              "      <td>20.3</td>\n",
              "      <td>0.231502</td>\n",
              "      <td>0.517654</td>\n",
              "      <td>231.502122</td>\n",
              "      <td>517.654482</td>\n",
              "      <td>0.143849</td>\n",
              "      <td>0.321655</td>\n",
              "      <td>759.521423</td>\n",
              "      <td>...</td>\n",
              "      <td>259.475979</td>\n",
              "      <td>643.580228</td>\n",
              "      <td>0.950791</td>\n",
              "      <td>248.415038</td>\n",
              "      <td>1.966857</td>\n",
              "      <td>2.458120e+06</td>\n",
              "      <td>292.893654</td>\n",
              "      <td>0.559371</td>\n",
              "      <td>J2000</td>\n",
              "      <td>True</td>\n",
              "    </tr>\n",
              "    <tr>\n",
              "      <th>3</th>\n",
              "      <td>3092506</td>\n",
              "      <td>3092506</td>\n",
              "      <td>27.4</td>\n",
              "      <td>0.008801</td>\n",
              "      <td>0.019681</td>\n",
              "      <td>8.801465</td>\n",
              "      <td>19.680675</td>\n",
              "      <td>0.005469</td>\n",
              "      <td>0.012229</td>\n",
              "      <td>28.876199</td>\n",
              "      <td>...</td>\n",
              "      <td>57.173266</td>\n",
              "      <td>514.082140</td>\n",
              "      <td>0.983902</td>\n",
              "      <td>18.707701</td>\n",
              "      <td>1.527904</td>\n",
              "      <td>2.457902e+06</td>\n",
              "      <td>68.741007</td>\n",
              "      <td>0.700277</td>\n",
              "      <td>J2000</td>\n",
              "      <td>False</td>\n",
              "    </tr>\n",
              "    <tr>\n",
              "      <th>4</th>\n",
              "      <td>3514799</td>\n",
              "      <td>3514799</td>\n",
              "      <td>21.6</td>\n",
              "      <td>0.127220</td>\n",
              "      <td>0.284472</td>\n",
              "      <td>127.219879</td>\n",
              "      <td>284.472297</td>\n",
              "      <td>0.079051</td>\n",
              "      <td>0.176763</td>\n",
              "      <td>417.388066</td>\n",
              "      <td>...</td>\n",
              "      <td>84.629307</td>\n",
              "      <td>495.597821</td>\n",
              "      <td>0.967687</td>\n",
              "      <td>158.263596</td>\n",
              "      <td>1.483543</td>\n",
              "      <td>2.457814e+06</td>\n",
              "      <td>135.142133</td>\n",
              "      <td>0.726395</td>\n",
              "      <td>J2000</td>\n",
              "      <td>True</td>\n",
              "    </tr>\n",
              "  </tbody>\n",
              "</table>\n",
              "<p>5 rows × 40 columns</p>\n",
              "</div>\n",
              "      <button class=\"colab-df-convert\" onclick=\"convertToInteractive('df-88203903-a04e-428b-8b46-f5f4925a27e7')\"\n",
              "              title=\"Convert this dataframe to an interactive table.\"\n",
              "              style=\"display:none;\">\n",
              "        \n",
              "  <svg xmlns=\"http://www.w3.org/2000/svg\" height=\"24px\"viewBox=\"0 0 24 24\"\n",
              "       width=\"24px\">\n",
              "    <path d=\"M0 0h24v24H0V0z\" fill=\"none\"/>\n",
              "    <path d=\"M18.56 5.44l.94 2.06.94-2.06 2.06-.94-2.06-.94-.94-2.06-.94 2.06-2.06.94zm-11 1L8.5 8.5l.94-2.06 2.06-.94-2.06-.94L8.5 2.5l-.94 2.06-2.06.94zm10 10l.94 2.06.94-2.06 2.06-.94-2.06-.94-.94-2.06-.94 2.06-2.06.94z\"/><path d=\"M17.41 7.96l-1.37-1.37c-.4-.4-.92-.59-1.43-.59-.52 0-1.04.2-1.43.59L10.3 9.45l-7.72 7.72c-.78.78-.78 2.05 0 2.83L4 21.41c.39.39.9.59 1.41.59.51 0 1.02-.2 1.41-.59l7.78-7.78 2.81-2.81c.8-.78.8-2.07 0-2.86zM5.41 20L4 18.59l7.72-7.72 1.47 1.35L5.41 20z\"/>\n",
              "  </svg>\n",
              "      </button>\n",
              "      \n",
              "  <style>\n",
              "    .colab-df-container {\n",
              "      display:flex;\n",
              "      flex-wrap:wrap;\n",
              "      gap: 12px;\n",
              "    }\n",
              "\n",
              "    .colab-df-convert {\n",
              "      background-color: #E8F0FE;\n",
              "      border: none;\n",
              "      border-radius: 50%;\n",
              "      cursor: pointer;\n",
              "      display: none;\n",
              "      fill: #1967D2;\n",
              "      height: 32px;\n",
              "      padding: 0 0 0 0;\n",
              "      width: 32px;\n",
              "    }\n",
              "\n",
              "    .colab-df-convert:hover {\n",
              "      background-color: #E2EBFA;\n",
              "      box-shadow: 0px 1px 2px rgba(60, 64, 67, 0.3), 0px 1px 3px 1px rgba(60, 64, 67, 0.15);\n",
              "      fill: #174EA6;\n",
              "    }\n",
              "\n",
              "    [theme=dark] .colab-df-convert {\n",
              "      background-color: #3B4455;\n",
              "      fill: #D2E3FC;\n",
              "    }\n",
              "\n",
              "    [theme=dark] .colab-df-convert:hover {\n",
              "      background-color: #434B5C;\n",
              "      box-shadow: 0px 1px 3px 1px rgba(0, 0, 0, 0.15);\n",
              "      filter: drop-shadow(0px 1px 2px rgba(0, 0, 0, 0.3));\n",
              "      fill: #FFFFFF;\n",
              "    }\n",
              "  </style>\n",
              "\n",
              "      <script>\n",
              "        const buttonEl =\n",
              "          document.querySelector('#df-88203903-a04e-428b-8b46-f5f4925a27e7 button.colab-df-convert');\n",
              "        buttonEl.style.display =\n",
              "          google.colab.kernel.accessAllowed ? 'block' : 'none';\n",
              "\n",
              "        async function convertToInteractive(key) {\n",
              "          const element = document.querySelector('#df-88203903-a04e-428b-8b46-f5f4925a27e7');\n",
              "          const dataTable =\n",
              "            await google.colab.kernel.invokeFunction('convertToInteractive',\n",
              "                                                     [key], {});\n",
              "          if (!dataTable) return;\n",
              "\n",
              "          const docLinkHtml = 'Like what you see? Visit the ' +\n",
              "            '<a target=\"_blank\" href=https://colab.research.google.com/notebooks/data_table.ipynb>data table notebook</a>'\n",
              "            + ' to learn more about interactive tables.';\n",
              "          element.innerHTML = '';\n",
              "          dataTable['output_type'] = 'display_data';\n",
              "          await google.colab.output.renderOutput(dataTable, element);\n",
              "          const docLink = document.createElement('div');\n",
              "          docLink.innerHTML = docLinkHtml;\n",
              "          element.appendChild(docLink);\n",
              "        }\n",
              "      </script>\n",
              "    </div>\n",
              "  </div>\n",
              "  "
            ]
          },
          "metadata": {},
          "execution_count": 3
        }
      ]
    },
    {
      "cell_type": "code",
      "source": [
        "nasa.info()"
      ],
      "metadata": {
        "colab": {
          "base_uri": "https://localhost:8080/"
        },
        "id": "YqajllgyBbWo",
        "outputId": "f35576c3-f2da-41ca-c247-c7ff63e60d99"
      },
      "execution_count": 4,
      "outputs": [
        {
          "output_type": "stream",
          "name": "stdout",
          "text": [
            "<class 'pandas.core.frame.DataFrame'>\n",
            "RangeIndex: 4687 entries, 0 to 4686\n",
            "Data columns (total 40 columns):\n",
            " #   Column                        Non-Null Count  Dtype  \n",
            "---  ------                        --------------  -----  \n",
            " 0   Neo Reference ID              4687 non-null   int64  \n",
            " 1   Name                          4687 non-null   int64  \n",
            " 2   Absolute Magnitude            4687 non-null   float64\n",
            " 3   Est Dia in KM(min)            4687 non-null   float64\n",
            " 4   Est Dia in KM(max)            4687 non-null   float64\n",
            " 5   Est Dia in M(min)             4687 non-null   float64\n",
            " 6   Est Dia in M(max)             4687 non-null   float64\n",
            " 7   Est Dia in Miles(min)         4687 non-null   float64\n",
            " 8   Est Dia in Miles(max)         4687 non-null   float64\n",
            " 9   Est Dia in Feet(min)          4687 non-null   float64\n",
            " 10  Est Dia in Feet(max)          4687 non-null   float64\n",
            " 11  Close Approach Date           4687 non-null   object \n",
            " 12  Epoch Date Close Approach     4687 non-null   int64  \n",
            " 13  Relative Velocity km per sec  4687 non-null   float64\n",
            " 14  Relative Velocity km per hr   4687 non-null   float64\n",
            " 15  Miles per hour                4687 non-null   float64\n",
            " 16  Miss Dist.(Astronomical)      4687 non-null   float64\n",
            " 17  Miss Dist.(lunar)             4687 non-null   float64\n",
            " 18  Miss Dist.(kilometers)        4687 non-null   float64\n",
            " 19  Miss Dist.(miles)             4687 non-null   float64\n",
            " 20  Orbiting Body                 4687 non-null   object \n",
            " 21  Orbit ID                      4687 non-null   int64  \n",
            " 22  Orbit Determination Date      4687 non-null   object \n",
            " 23  Orbit Uncertainity            4687 non-null   int64  \n",
            " 24  Minimum Orbit Intersection    4687 non-null   float64\n",
            " 25  Jupiter Tisserand Invariant   4687 non-null   float64\n",
            " 26  Epoch Osculation              4687 non-null   float64\n",
            " 27  Eccentricity                  4687 non-null   float64\n",
            " 28  Semi Major Axis               4687 non-null   float64\n",
            " 29  Inclination                   4687 non-null   float64\n",
            " 30  Asc Node Longitude            4687 non-null   float64\n",
            " 31  Orbital Period                4687 non-null   float64\n",
            " 32  Perihelion Distance           4687 non-null   float64\n",
            " 33  Perihelion Arg                4687 non-null   float64\n",
            " 34  Aphelion Dist                 4687 non-null   float64\n",
            " 35  Perihelion Time               4687 non-null   float64\n",
            " 36  Mean Anomaly                  4687 non-null   float64\n",
            " 37  Mean Motion                   4687 non-null   float64\n",
            " 38  Equinox                       4687 non-null   object \n",
            " 39  Hazardous                     4687 non-null   bool   \n",
            "dtypes: bool(1), float64(30), int64(5), object(4)\n",
            "memory usage: 1.4+ MB\n"
          ]
        }
      ]
    },
    {
      "cell_type": "markdown",
      "source": [
        "## Label Encoder to Encode Data"
      ],
      "metadata": {
        "id": "g6FlspskCtNP"
      }
    },
    {
      "cell_type": "markdown",
      "source": [
        "`LabelEnocder` is called from sklearn to encode the object data in the dataset. Four columns from the dataset are objects, so they are encoded here so that every column in the dataset is numerical. The target column, `Hazardous`, is also encoded to be numerical, as well. It is checked by doing `nasa.info()` and seeing the all the columns have numerical data."
      ],
      "metadata": {
        "id": "8uh7kSr1FqPJ"
      }
    },
    {
      "cell_type": "code",
      "source": [
        "from sklearn.preprocessing import LabelEncoder\n",
        "le = LabelEncoder()\n",
        "nasa['Close Approach Date'] = le.fit_transform(nasa['Close Approach Date'])\n",
        "nasa['Orbiting Body'] = le.fit_transform(nasa['Orbiting Body'])\n",
        "nasa['Orbit Determination Date'] = le.fit_transform(nasa['Orbit Determination Date'])\n",
        "nasa['Equinox'] = le.fit_transform(nasa['Equinox'])\n",
        "nasa['Hazardous'] = le.fit_transform(nasa['Hazardous'])"
      ],
      "metadata": {
        "id": "L8T9K4lIBenn"
      },
      "execution_count": 5,
      "outputs": []
    },
    {
      "cell_type": "code",
      "source": [
        "nasa.head()"
      ],
      "metadata": {
        "colab": {
          "base_uri": "https://localhost:8080/",
          "height": 331
        },
        "id": "OkpTrn09-lwj",
        "outputId": "00a0a023-2174-4569-88d4-a38a110e6ff1"
      },
      "execution_count": 6,
      "outputs": [
        {
          "output_type": "execute_result",
          "data": {
            "text/plain": [
              "   Neo Reference ID     Name  Absolute Magnitude  Est Dia in KM(min)  \\\n",
              "0           3703080  3703080                21.6            0.127220   \n",
              "1           3723955  3723955                21.3            0.146068   \n",
              "2           2446862  2446862                20.3            0.231502   \n",
              "3           3092506  3092506                27.4            0.008801   \n",
              "4           3514799  3514799                21.6            0.127220   \n",
              "\n",
              "   Est Dia in KM(max)  Est Dia in M(min)  Est Dia in M(max)  \\\n",
              "0            0.284472         127.219879         284.472297   \n",
              "1            0.326618         146.067964         326.617897   \n",
              "2            0.517654         231.502122         517.654482   \n",
              "3            0.019681           8.801465          19.680675   \n",
              "4            0.284472         127.219879         284.472297   \n",
              "\n",
              "   Est Dia in Miles(min)  Est Dia in Miles(max)  Est Dia in Feet(min)  ...  \\\n",
              "0               0.079051               0.176763            417.388066  ...   \n",
              "1               0.090762               0.202951            479.225620  ...   \n",
              "2               0.143849               0.321655            759.521423  ...   \n",
              "3               0.005469               0.012229             28.876199  ...   \n",
              "4               0.079051               0.176763            417.388066  ...   \n",
              "\n",
              "   Asc Node Longitude  Orbital Period  Perihelion Distance  Perihelion Arg  \\\n",
              "0          314.373913      609.599786             0.808259       57.257470   \n",
              "1          136.717242      425.869294             0.718200      313.091975   \n",
              "2          259.475979      643.580228             0.950791      248.415038   \n",
              "3           57.173266      514.082140             0.983902       18.707701   \n",
              "4           84.629307      495.597821             0.967687      158.263596   \n",
              "\n",
              "   Aphelion Dist  Perihelion Time  Mean Anomaly  Mean Motion  Equinox  \\\n",
              "0       2.005764     2.458162e+06    264.837533     0.590551        0   \n",
              "1       1.497352     2.457795e+06    173.741112     0.845330        0   \n",
              "2       1.966857     2.458120e+06    292.893654     0.559371        0   \n",
              "3       1.527904     2.457902e+06     68.741007     0.700277        0   \n",
              "4       1.483543     2.457814e+06    135.142133     0.726395        0   \n",
              "\n",
              "   Hazardous  \n",
              "0          1  \n",
              "1          0  \n",
              "2          1  \n",
              "3          0  \n",
              "4          1  \n",
              "\n",
              "[5 rows x 40 columns]"
            ],
            "text/html": [
              "\n",
              "  <div id=\"df-cae6950c-0529-469b-a48f-568fc6b69654\">\n",
              "    <div class=\"colab-df-container\">\n",
              "      <div>\n",
              "<style scoped>\n",
              "    .dataframe tbody tr th:only-of-type {\n",
              "        vertical-align: middle;\n",
              "    }\n",
              "\n",
              "    .dataframe tbody tr th {\n",
              "        vertical-align: top;\n",
              "    }\n",
              "\n",
              "    .dataframe thead th {\n",
              "        text-align: right;\n",
              "    }\n",
              "</style>\n",
              "<table border=\"1\" class=\"dataframe\">\n",
              "  <thead>\n",
              "    <tr style=\"text-align: right;\">\n",
              "      <th></th>\n",
              "      <th>Neo Reference ID</th>\n",
              "      <th>Name</th>\n",
              "      <th>Absolute Magnitude</th>\n",
              "      <th>Est Dia in KM(min)</th>\n",
              "      <th>Est Dia in KM(max)</th>\n",
              "      <th>Est Dia in M(min)</th>\n",
              "      <th>Est Dia in M(max)</th>\n",
              "      <th>Est Dia in Miles(min)</th>\n",
              "      <th>Est Dia in Miles(max)</th>\n",
              "      <th>Est Dia in Feet(min)</th>\n",
              "      <th>...</th>\n",
              "      <th>Asc Node Longitude</th>\n",
              "      <th>Orbital Period</th>\n",
              "      <th>Perihelion Distance</th>\n",
              "      <th>Perihelion Arg</th>\n",
              "      <th>Aphelion Dist</th>\n",
              "      <th>Perihelion Time</th>\n",
              "      <th>Mean Anomaly</th>\n",
              "      <th>Mean Motion</th>\n",
              "      <th>Equinox</th>\n",
              "      <th>Hazardous</th>\n",
              "    </tr>\n",
              "  </thead>\n",
              "  <tbody>\n",
              "    <tr>\n",
              "      <th>0</th>\n",
              "      <td>3703080</td>\n",
              "      <td>3703080</td>\n",
              "      <td>21.6</td>\n",
              "      <td>0.127220</td>\n",
              "      <td>0.284472</td>\n",
              "      <td>127.219879</td>\n",
              "      <td>284.472297</td>\n",
              "      <td>0.079051</td>\n",
              "      <td>0.176763</td>\n",
              "      <td>417.388066</td>\n",
              "      <td>...</td>\n",
              "      <td>314.373913</td>\n",
              "      <td>609.599786</td>\n",
              "      <td>0.808259</td>\n",
              "      <td>57.257470</td>\n",
              "      <td>2.005764</td>\n",
              "      <td>2.458162e+06</td>\n",
              "      <td>264.837533</td>\n",
              "      <td>0.590551</td>\n",
              "      <td>0</td>\n",
              "      <td>1</td>\n",
              "    </tr>\n",
              "    <tr>\n",
              "      <th>1</th>\n",
              "      <td>3723955</td>\n",
              "      <td>3723955</td>\n",
              "      <td>21.3</td>\n",
              "      <td>0.146068</td>\n",
              "      <td>0.326618</td>\n",
              "      <td>146.067964</td>\n",
              "      <td>326.617897</td>\n",
              "      <td>0.090762</td>\n",
              "      <td>0.202951</td>\n",
              "      <td>479.225620</td>\n",
              "      <td>...</td>\n",
              "      <td>136.717242</td>\n",
              "      <td>425.869294</td>\n",
              "      <td>0.718200</td>\n",
              "      <td>313.091975</td>\n",
              "      <td>1.497352</td>\n",
              "      <td>2.457795e+06</td>\n",
              "      <td>173.741112</td>\n",
              "      <td>0.845330</td>\n",
              "      <td>0</td>\n",
              "      <td>0</td>\n",
              "    </tr>\n",
              "    <tr>\n",
              "      <th>2</th>\n",
              "      <td>2446862</td>\n",
              "      <td>2446862</td>\n",
              "      <td>20.3</td>\n",
              "      <td>0.231502</td>\n",
              "      <td>0.517654</td>\n",
              "      <td>231.502122</td>\n",
              "      <td>517.654482</td>\n",
              "      <td>0.143849</td>\n",
              "      <td>0.321655</td>\n",
              "      <td>759.521423</td>\n",
              "      <td>...</td>\n",
              "      <td>259.475979</td>\n",
              "      <td>643.580228</td>\n",
              "      <td>0.950791</td>\n",
              "      <td>248.415038</td>\n",
              "      <td>1.966857</td>\n",
              "      <td>2.458120e+06</td>\n",
              "      <td>292.893654</td>\n",
              "      <td>0.559371</td>\n",
              "      <td>0</td>\n",
              "      <td>1</td>\n",
              "    </tr>\n",
              "    <tr>\n",
              "      <th>3</th>\n",
              "      <td>3092506</td>\n",
              "      <td>3092506</td>\n",
              "      <td>27.4</td>\n",
              "      <td>0.008801</td>\n",
              "      <td>0.019681</td>\n",
              "      <td>8.801465</td>\n",
              "      <td>19.680675</td>\n",
              "      <td>0.005469</td>\n",
              "      <td>0.012229</td>\n",
              "      <td>28.876199</td>\n",
              "      <td>...</td>\n",
              "      <td>57.173266</td>\n",
              "      <td>514.082140</td>\n",
              "      <td>0.983902</td>\n",
              "      <td>18.707701</td>\n",
              "      <td>1.527904</td>\n",
              "      <td>2.457902e+06</td>\n",
              "      <td>68.741007</td>\n",
              "      <td>0.700277</td>\n",
              "      <td>0</td>\n",
              "      <td>0</td>\n",
              "    </tr>\n",
              "    <tr>\n",
              "      <th>4</th>\n",
              "      <td>3514799</td>\n",
              "      <td>3514799</td>\n",
              "      <td>21.6</td>\n",
              "      <td>0.127220</td>\n",
              "      <td>0.284472</td>\n",
              "      <td>127.219879</td>\n",
              "      <td>284.472297</td>\n",
              "      <td>0.079051</td>\n",
              "      <td>0.176763</td>\n",
              "      <td>417.388066</td>\n",
              "      <td>...</td>\n",
              "      <td>84.629307</td>\n",
              "      <td>495.597821</td>\n",
              "      <td>0.967687</td>\n",
              "      <td>158.263596</td>\n",
              "      <td>1.483543</td>\n",
              "      <td>2.457814e+06</td>\n",
              "      <td>135.142133</td>\n",
              "      <td>0.726395</td>\n",
              "      <td>0</td>\n",
              "      <td>1</td>\n",
              "    </tr>\n",
              "  </tbody>\n",
              "</table>\n",
              "<p>5 rows × 40 columns</p>\n",
              "</div>\n",
              "      <button class=\"colab-df-convert\" onclick=\"convertToInteractive('df-cae6950c-0529-469b-a48f-568fc6b69654')\"\n",
              "              title=\"Convert this dataframe to an interactive table.\"\n",
              "              style=\"display:none;\">\n",
              "        \n",
              "  <svg xmlns=\"http://www.w3.org/2000/svg\" height=\"24px\"viewBox=\"0 0 24 24\"\n",
              "       width=\"24px\">\n",
              "    <path d=\"M0 0h24v24H0V0z\" fill=\"none\"/>\n",
              "    <path d=\"M18.56 5.44l.94 2.06.94-2.06 2.06-.94-2.06-.94-.94-2.06-.94 2.06-2.06.94zm-11 1L8.5 8.5l.94-2.06 2.06-.94-2.06-.94L8.5 2.5l-.94 2.06-2.06.94zm10 10l.94 2.06.94-2.06 2.06-.94-2.06-.94-.94-2.06-.94 2.06-2.06.94z\"/><path d=\"M17.41 7.96l-1.37-1.37c-.4-.4-.92-.59-1.43-.59-.52 0-1.04.2-1.43.59L10.3 9.45l-7.72 7.72c-.78.78-.78 2.05 0 2.83L4 21.41c.39.39.9.59 1.41.59.51 0 1.02-.2 1.41-.59l7.78-7.78 2.81-2.81c.8-.78.8-2.07 0-2.86zM5.41 20L4 18.59l7.72-7.72 1.47 1.35L5.41 20z\"/>\n",
              "  </svg>\n",
              "      </button>\n",
              "      \n",
              "  <style>\n",
              "    .colab-df-container {\n",
              "      display:flex;\n",
              "      flex-wrap:wrap;\n",
              "      gap: 12px;\n",
              "    }\n",
              "\n",
              "    .colab-df-convert {\n",
              "      background-color: #E8F0FE;\n",
              "      border: none;\n",
              "      border-radius: 50%;\n",
              "      cursor: pointer;\n",
              "      display: none;\n",
              "      fill: #1967D2;\n",
              "      height: 32px;\n",
              "      padding: 0 0 0 0;\n",
              "      width: 32px;\n",
              "    }\n",
              "\n",
              "    .colab-df-convert:hover {\n",
              "      background-color: #E2EBFA;\n",
              "      box-shadow: 0px 1px 2px rgba(60, 64, 67, 0.3), 0px 1px 3px 1px rgba(60, 64, 67, 0.15);\n",
              "      fill: #174EA6;\n",
              "    }\n",
              "\n",
              "    [theme=dark] .colab-df-convert {\n",
              "      background-color: #3B4455;\n",
              "      fill: #D2E3FC;\n",
              "    }\n",
              "\n",
              "    [theme=dark] .colab-df-convert:hover {\n",
              "      background-color: #434B5C;\n",
              "      box-shadow: 0px 1px 3px 1px rgba(0, 0, 0, 0.15);\n",
              "      filter: drop-shadow(0px 1px 2px rgba(0, 0, 0, 0.3));\n",
              "      fill: #FFFFFF;\n",
              "    }\n",
              "  </style>\n",
              "\n",
              "      <script>\n",
              "        const buttonEl =\n",
              "          document.querySelector('#df-cae6950c-0529-469b-a48f-568fc6b69654 button.colab-df-convert');\n",
              "        buttonEl.style.display =\n",
              "          google.colab.kernel.accessAllowed ? 'block' : 'none';\n",
              "\n",
              "        async function convertToInteractive(key) {\n",
              "          const element = document.querySelector('#df-cae6950c-0529-469b-a48f-568fc6b69654');\n",
              "          const dataTable =\n",
              "            await google.colab.kernel.invokeFunction('convertToInteractive',\n",
              "                                                     [key], {});\n",
              "          if (!dataTable) return;\n",
              "\n",
              "          const docLinkHtml = 'Like what you see? Visit the ' +\n",
              "            '<a target=\"_blank\" href=https://colab.research.google.com/notebooks/data_table.ipynb>data table notebook</a>'\n",
              "            + ' to learn more about interactive tables.';\n",
              "          element.innerHTML = '';\n",
              "          dataTable['output_type'] = 'display_data';\n",
              "          await google.colab.output.renderOutput(dataTable, element);\n",
              "          const docLink = document.createElement('div');\n",
              "          docLink.innerHTML = docLinkHtml;\n",
              "          element.appendChild(docLink);\n",
              "        }\n",
              "      </script>\n",
              "    </div>\n",
              "  </div>\n",
              "  "
            ]
          },
          "metadata": {},
          "execution_count": 6
        }
      ]
    },
    {
      "cell_type": "code",
      "source": [
        "nasa.info()"
      ],
      "metadata": {
        "colab": {
          "base_uri": "https://localhost:8080/"
        },
        "id": "nNVAFkwYC3EL",
        "outputId": "4d278444-0f8c-4791-9609-ca70c4c72cc7"
      },
      "execution_count": 7,
      "outputs": [
        {
          "output_type": "stream",
          "name": "stdout",
          "text": [
            "<class 'pandas.core.frame.DataFrame'>\n",
            "RangeIndex: 4687 entries, 0 to 4686\n",
            "Data columns (total 40 columns):\n",
            " #   Column                        Non-Null Count  Dtype  \n",
            "---  ------                        --------------  -----  \n",
            " 0   Neo Reference ID              4687 non-null   int64  \n",
            " 1   Name                          4687 non-null   int64  \n",
            " 2   Absolute Magnitude            4687 non-null   float64\n",
            " 3   Est Dia in KM(min)            4687 non-null   float64\n",
            " 4   Est Dia in KM(max)            4687 non-null   float64\n",
            " 5   Est Dia in M(min)             4687 non-null   float64\n",
            " 6   Est Dia in M(max)             4687 non-null   float64\n",
            " 7   Est Dia in Miles(min)         4687 non-null   float64\n",
            " 8   Est Dia in Miles(max)         4687 non-null   float64\n",
            " 9   Est Dia in Feet(min)          4687 non-null   float64\n",
            " 10  Est Dia in Feet(max)          4687 non-null   float64\n",
            " 11  Close Approach Date           4687 non-null   int64  \n",
            " 12  Epoch Date Close Approach     4687 non-null   int64  \n",
            " 13  Relative Velocity km per sec  4687 non-null   float64\n",
            " 14  Relative Velocity km per hr   4687 non-null   float64\n",
            " 15  Miles per hour                4687 non-null   float64\n",
            " 16  Miss Dist.(Astronomical)      4687 non-null   float64\n",
            " 17  Miss Dist.(lunar)             4687 non-null   float64\n",
            " 18  Miss Dist.(kilometers)        4687 non-null   float64\n",
            " 19  Miss Dist.(miles)             4687 non-null   float64\n",
            " 20  Orbiting Body                 4687 non-null   int64  \n",
            " 21  Orbit ID                      4687 non-null   int64  \n",
            " 22  Orbit Determination Date      4687 non-null   int64  \n",
            " 23  Orbit Uncertainity            4687 non-null   int64  \n",
            " 24  Minimum Orbit Intersection    4687 non-null   float64\n",
            " 25  Jupiter Tisserand Invariant   4687 non-null   float64\n",
            " 26  Epoch Osculation              4687 non-null   float64\n",
            " 27  Eccentricity                  4687 non-null   float64\n",
            " 28  Semi Major Axis               4687 non-null   float64\n",
            " 29  Inclination                   4687 non-null   float64\n",
            " 30  Asc Node Longitude            4687 non-null   float64\n",
            " 31  Orbital Period                4687 non-null   float64\n",
            " 32  Perihelion Distance           4687 non-null   float64\n",
            " 33  Perihelion Arg                4687 non-null   float64\n",
            " 34  Aphelion Dist                 4687 non-null   float64\n",
            " 35  Perihelion Time               4687 non-null   float64\n",
            " 36  Mean Anomaly                  4687 non-null   float64\n",
            " 37  Mean Motion                   4687 non-null   float64\n",
            " 38  Equinox                       4687 non-null   int64  \n",
            " 39  Hazardous                     4687 non-null   int64  \n",
            "dtypes: float64(30), int64(10)\n",
            "memory usage: 1.4 MB\n"
          ]
        }
      ]
    },
    {
      "cell_type": "markdown",
      "source": [
        "## Splitting the Dataset"
      ],
      "metadata": {
        "id": "HpLxgkxbEeiK"
      }
    },
    {
      "cell_type": "markdown",
      "source": [
        "The x and y variables are created here where in x, the target column is dropped, leaving the rest of the dataset in x, and y only has the target column. `nasa.Hazardous.value_counts()` is called to determine if `nasa` is evenly distributed. Since it is not, y needs to be stratified later."
      ],
      "metadata": {
        "id": "I7p34k2HGncP"
      }
    },
    {
      "cell_type": "code",
      "source": [
        "x = nasa.drop(['Hazardous'], axis = 1)\n",
        "y = nasa['Hazardous']"
      ],
      "metadata": {
        "id": "v5tLsiQ7EZyl"
      },
      "execution_count": 8,
      "outputs": []
    },
    {
      "cell_type": "code",
      "source": [
        "nasa.Hazardous.value_counts()"
      ],
      "metadata": {
        "colab": {
          "base_uri": "https://localhost:8080/"
        },
        "id": "7WZPSlA6EgrU",
        "outputId": "287967c2-0999-469c-828f-3e22691125b3"
      },
      "execution_count": 9,
      "outputs": [
        {
          "output_type": "execute_result",
          "data": {
            "text/plain": [
              "0    3932\n",
              "1     755\n",
              "Name: Hazardous, dtype: int64"
            ]
          },
          "metadata": {},
          "execution_count": 9
        }
      ]
    },
    {
      "cell_type": "markdown",
      "source": [
        "## Training, Testing, and Splitting the Dataset"
      ],
      "metadata": {
        "id": "Wuk7KDTaH8Qb"
      }
    },
    {
      "cell_type": "markdown",
      "source": [
        "`train_test_split` is called from sklearn to split the data 80/20 into 4 different parts: `x_train`, `x_test`, `y_train`, and `y_test`. `y` is also stratified since the target column is not evenly distributed."
      ],
      "metadata": {
        "id": "cqxUP5NGsDKX"
      }
    },
    {
      "cell_type": "code",
      "source": [
        "from sklearn.model_selection import train_test_split\n",
        "x_train, x_test, y_train, y_test = train_test_split(x, y, test_size = 0.2, random_state = 0, stratify = y)"
      ],
      "metadata": {
        "id": "pPyEBrRFEpDD"
      },
      "execution_count": 10,
      "outputs": []
    },
    {
      "cell_type": "markdown",
      "source": [
        "## Scaling the Dataset"
      ],
      "metadata": {
        "id": "DlIvuiiEoX9p"
      }
    },
    {
      "cell_type": "markdown",
      "source": [
        "`StandardScaler()` is called from `sklearn.preprocessing` to take the x training and testing sets and scaling them to fit the rest of the data and make the model more accurate. Since this is a classification problem, only the x sets need to be scaled. This is useful because SVC requires scaling or else the model will not be trained correctly. It also will not impact the other classification techniques, only SVC."
      ],
      "metadata": {
        "id": "Dyu70x0dr4QC"
      }
    },
    {
      "cell_type": "code",
      "source": [
        "from sklearn.preprocessing import StandardScaler\n",
        "sc = StandardScaler()\n",
        "x_train = sc.fit_transform(x_train)\n",
        "x_test = sc.transform(x_test)"
      ],
      "metadata": {
        "id": "MivO9TKXoYFu"
      },
      "execution_count": 11,
      "outputs": []
    },
    {
      "cell_type": "markdown",
      "source": [
        "## Logistic Regression"
      ],
      "metadata": {
        "id": "bDmm7M6fKaJs"
      }
    },
    {
      "cell_type": "markdown",
      "source": [
        "`lr` is a variable that holds the `LogisticRegression()` model. It is fit with `x_train` and `y_train`. The current scores shows that the model is very accurate and is not overfitted or underfitted since both the training and testing scores are both 95%. The MSE evaluates the performance and the RMSE is used to measure the model performance. The MSE is very small, meaning that the logistic regression model is very accurate. The RMSE is not great, but also not horrible with the accuracy being 0.21. The confusion matrix shows that it did well finding true positives and true negatives, yet still had some error and found 20 false positives and 20 false negatives. The classification report shows that the logistic regression model did a better job of finding 0's (not hazardous) than it did finding 1's (hazardous)."
      ],
      "metadata": {
        "id": "t2sTVklkuy3g"
      }
    },
    {
      "cell_type": "code",
      "source": [
        "lr = LogisticRegression(random_state = 0)\n",
        "lr.fit(x_train, y_train)"
      ],
      "metadata": {
        "colab": {
          "base_uri": "https://localhost:8080/"
        },
        "id": "D5leDIpTICr3",
        "outputId": "479d2cb7-76c6-4b44-b185-2120b01f26c9"
      },
      "execution_count": 12,
      "outputs": [
        {
          "output_type": "execute_result",
          "data": {
            "text/plain": [
              "LogisticRegression(random_state=0)"
            ]
          },
          "metadata": {},
          "execution_count": 12
        }
      ]
    },
    {
      "cell_type": "code",
      "source": [
        "lr_score_train = lr.score(x_train, y_train)\n",
        "lr_score_train"
      ],
      "metadata": {
        "colab": {
          "base_uri": "https://localhost:8080/"
        },
        "id": "heveb6dpKIrm",
        "outputId": "34dc2ba0-6432-457a-cdda-091d85cb3de1"
      },
      "execution_count": 13,
      "outputs": [
        {
          "output_type": "execute_result",
          "data": {
            "text/plain": [
              "0.9594558548946386"
            ]
          },
          "metadata": {},
          "execution_count": 13
        }
      ]
    },
    {
      "cell_type": "code",
      "source": [
        "lr_score_test = lr.score(x_test, y_test)\n",
        "lr_score_test"
      ],
      "metadata": {
        "colab": {
          "base_uri": "https://localhost:8080/"
        },
        "id": "9XOOtzbKMaM4",
        "outputId": "cceda5cb-e138-4d89-df11-9b9269061e7d"
      },
      "execution_count": 14,
      "outputs": [
        {
          "output_type": "execute_result",
          "data": {
            "text/plain": [
              "0.9573560767590619"
            ]
          },
          "metadata": {},
          "execution_count": 14
        }
      ]
    },
    {
      "cell_type": "code",
      "source": [
        "y_pred_lr = lr.predict(x_test)"
      ],
      "metadata": {
        "id": "rwACyI_pMcaf"
      },
      "execution_count": 15,
      "outputs": []
    },
    {
      "cell_type": "code",
      "source": [
        "MSE_lr = mean_squared_error(y_test, y_pred_lr, squared = True)\n",
        "print(MSE_lr)"
      ],
      "metadata": {
        "colab": {
          "base_uri": "https://localhost:8080/"
        },
        "id": "DH3OA4jlMjNL",
        "outputId": "b091917f-3725-49f5-c7d5-a9efc547258e"
      },
      "execution_count": 16,
      "outputs": [
        {
          "output_type": "stream",
          "name": "stdout",
          "text": [
            "0.042643923240938165\n"
          ]
        }
      ]
    },
    {
      "cell_type": "code",
      "source": [
        "RMSE_lr = mean_squared_error(y_test, y_pred_lr, squared = False)\n",
        "print(RMSE_lr)"
      ],
      "metadata": {
        "colab": {
          "base_uri": "https://localhost:8080/"
        },
        "id": "KmFjbkWRMpJ7",
        "outputId": "4e6f08bd-d53d-425d-ae72-1a16f0db7580"
      },
      "execution_count": 17,
      "outputs": [
        {
          "output_type": "stream",
          "name": "stdout",
          "text": [
            "0.20650405139110023\n"
          ]
        }
      ]
    },
    {
      "cell_type": "code",
      "source": [
        "cm_lr = confusion_matrix(y_test, y_pred_lr)\n",
        "print(cm_lr)"
      ],
      "metadata": {
        "colab": {
          "base_uri": "https://localhost:8080/"
        },
        "id": "9HudySzggEU3",
        "outputId": "7d262ccc-7c58-440b-944d-2093e136c6bb"
      },
      "execution_count": 18,
      "outputs": [
        {
          "output_type": "stream",
          "name": "stdout",
          "text": [
            "[[767  20]\n",
            " [ 20 131]]\n"
          ]
        }
      ]
    },
    {
      "cell_type": "code",
      "source": [
        "cr_lr = classification_report(y_test, y_pred_lr)\n",
        "print(cr_lr)"
      ],
      "metadata": {
        "colab": {
          "base_uri": "https://localhost:8080/"
        },
        "id": "B23W2JKUgKvr",
        "outputId": "320487ef-414e-4090-b54a-64495624ee44"
      },
      "execution_count": 19,
      "outputs": [
        {
          "output_type": "stream",
          "name": "stdout",
          "text": [
            "              precision    recall  f1-score   support\n",
            "\n",
            "           0       0.97      0.97      0.97       787\n",
            "           1       0.87      0.87      0.87       151\n",
            "\n",
            "    accuracy                           0.96       938\n",
            "   macro avg       0.92      0.92      0.92       938\n",
            "weighted avg       0.96      0.96      0.96       938\n",
            "\n"
          ]
        }
      ]
    },
    {
      "cell_type": "markdown",
      "source": [
        "## Random Forest Classification"
      ],
      "metadata": {
        "id": "LuRIV4icf0cd"
      }
    },
    {
      "cell_type": "markdown",
      "source": [
        "`rfc` is a variable that holds the `RandomForestClassifier()` model. It is fit with `x_train` and `y_train`. The current scores shows that the model is very accurate and is not overfitted or underfitted since both the training and testing scores are around 100%. The MSE evaluates the performance and the RMSE is used to measure the model performance. The MSE is very small, meaning that the logistic regression model is very accurate. The RMSE is also extremely small, meaning that the model is very accurate. The confusion matrix shows that it did well finding true positives and true negatives, yet still had some error and found 3 false positives and 2 false negatives. The classification report shows that the random forest model did a good job of finding both the 0's (not hazardous) and 1's (hazardous)."
      ],
      "metadata": {
        "id": "o6EKoa7IxHkW"
      }
    },
    {
      "cell_type": "code",
      "source": [
        "rfc = RandomForestClassifier(n_estimators = 500)\n",
        "rfc.fit(x_train, y_train)"
      ],
      "metadata": {
        "colab": {
          "base_uri": "https://localhost:8080/"
        },
        "id": "T0xC8h0lf0kC",
        "outputId": "cf73d34b-c132-45ea-91fd-d1621dcb93ca"
      },
      "execution_count": 20,
      "outputs": [
        {
          "output_type": "execute_result",
          "data": {
            "text/plain": [
              "RandomForestClassifier(n_estimators=500)"
            ]
          },
          "metadata": {},
          "execution_count": 20
        }
      ]
    },
    {
      "cell_type": "code",
      "source": [
        "rfc_score_train = rfc.score(x_train, y_train)\n",
        "rfc_score_train"
      ],
      "metadata": {
        "colab": {
          "base_uri": "https://localhost:8080/"
        },
        "id": "8wlX-f-4iRHx",
        "outputId": "58a456af-91bc-4545-b4bf-841c972c494b"
      },
      "execution_count": 21,
      "outputs": [
        {
          "output_type": "execute_result",
          "data": {
            "text/plain": [
              "1.0"
            ]
          },
          "metadata": {},
          "execution_count": 21
        }
      ]
    },
    {
      "cell_type": "code",
      "source": [
        "rfc_score_test = rfc.score(x_test, y_test)\n",
        "rfc_score_test"
      ],
      "metadata": {
        "colab": {
          "base_uri": "https://localhost:8080/"
        },
        "id": "GLSDF48ef0mx",
        "outputId": "3a19c8af-33fe-430e-93bc-f284c0e07435"
      },
      "execution_count": 22,
      "outputs": [
        {
          "output_type": "execute_result",
          "data": {
            "text/plain": [
              "0.9946695095948828"
            ]
          },
          "metadata": {},
          "execution_count": 22
        }
      ]
    },
    {
      "cell_type": "code",
      "source": [
        "y_pred_rfc = rfc.predict(x_test)"
      ],
      "metadata": {
        "id": "pGl_5cetiizp"
      },
      "execution_count": 23,
      "outputs": []
    },
    {
      "cell_type": "code",
      "source": [
        "MSE_rfc = mean_squared_error(y_test, y_pred_rfc, squared = True)\n",
        "print(MSE_rfc)"
      ],
      "metadata": {
        "colab": {
          "base_uri": "https://localhost:8080/"
        },
        "id": "AVOL1U6uigxV",
        "outputId": "d9942882-6185-4fd1-8117-07eaae54b4a1"
      },
      "execution_count": 24,
      "outputs": [
        {
          "output_type": "stream",
          "name": "stdout",
          "text": [
            "0.005330490405117271\n"
          ]
        }
      ]
    },
    {
      "cell_type": "code",
      "source": [
        "RMSE_rfc = mean_squared_error(y_test, y_pred_rfc, squared = False)\n",
        "print(RMSE_rfc)"
      ],
      "metadata": {
        "colab": {
          "base_uri": "https://localhost:8080/"
        },
        "id": "d_AvlqNiig1W",
        "outputId": "ee64d2f4-8719-4919-fd58-e53eddced3a5"
      },
      "execution_count": 25,
      "outputs": [
        {
          "output_type": "stream",
          "name": "stdout",
          "text": [
            "0.07301020754057114\n"
          ]
        }
      ]
    },
    {
      "cell_type": "code",
      "source": [
        "cm_rfc = confusion_matrix(y_test, y_pred_rfc)\n",
        "print(cm_rfc)"
      ],
      "metadata": {
        "colab": {
          "base_uri": "https://localhost:8080/"
        },
        "id": "aorqFrDrgORM",
        "outputId": "6ac7558b-c016-4d45-85b5-debc65a2edfe"
      },
      "execution_count": 26,
      "outputs": [
        {
          "output_type": "stream",
          "name": "stdout",
          "text": [
            "[[784   3]\n",
            " [  2 149]]\n"
          ]
        }
      ]
    },
    {
      "cell_type": "code",
      "source": [
        "cr_rfc = classification_report(y_test, y_pred_rfc)\n",
        "print(cr_rfc)"
      ],
      "metadata": {
        "colab": {
          "base_uri": "https://localhost:8080/"
        },
        "id": "piVve5sHgOX9",
        "outputId": "5133557d-ae41-41db-c166-9eb0615c9ab6"
      },
      "execution_count": 27,
      "outputs": [
        {
          "output_type": "stream",
          "name": "stdout",
          "text": [
            "              precision    recall  f1-score   support\n",
            "\n",
            "           0       1.00      1.00      1.00       787\n",
            "           1       0.98      0.99      0.98       151\n",
            "\n",
            "    accuracy                           0.99       938\n",
            "   macro avg       0.99      0.99      0.99       938\n",
            "weighted avg       0.99      0.99      0.99       938\n",
            "\n"
          ]
        }
      ]
    },
    {
      "cell_type": "markdown",
      "source": [
        "## Decision Tree Classification"
      ],
      "metadata": {
        "id": "ODfLz_wXkGRz"
      }
    },
    {
      "cell_type": "markdown",
      "source": [
        "`dtc` is a variable that holds the `DecisionTreeClassifier()` model. It is fit with `x_train` and `y_train`. The current scores shows that the model is very accurate and is not overfitted or underfitted since both the training and testing scores are around 100%. The MSE evaluates the performance and the RMSE is used to measure the model performance. The MSE is very small, meaning that the logistic regression model is very accurate. The RMSE is also extremely small, meaning that the model is accurate. The confusion matrix shows that it did well finding true positives and true negatives, yet still had some error and found 2 false positives and 1 false negative. The classification report shows that the random forest model did a good job of finding both the 0's (not hazardous) and 1's (hazardous)."
      ],
      "metadata": {
        "id": "QOMRJX4ExwiU"
      }
    },
    {
      "cell_type": "code",
      "source": [
        "dtc = DecisionTreeClassifier(criterion = 'entropy', max_depth = 10, random_state = 0)\n",
        "dtc.fit(x_train, y_train)"
      ],
      "metadata": {
        "colab": {
          "base_uri": "https://localhost:8080/"
        },
        "id": "tjen18Q9kGcO",
        "outputId": "2c192c73-fe0d-4395-b858-e58ed44f0079"
      },
      "execution_count": 28,
      "outputs": [
        {
          "output_type": "execute_result",
          "data": {
            "text/plain": [
              "DecisionTreeClassifier(criterion='entropy', max_depth=10, random_state=0)"
            ]
          },
          "metadata": {},
          "execution_count": 28
        }
      ]
    },
    {
      "cell_type": "code",
      "source": [
        "dtc_score_train = dtc.score(x_train, y_train)\n",
        "dtc_score_train"
      ],
      "metadata": {
        "colab": {
          "base_uri": "https://localhost:8080/"
        },
        "id": "BtV5v9LQkGev",
        "outputId": "1ad634a5-46d8-40fa-f11f-12aee83e6e22"
      },
      "execution_count": 29,
      "outputs": [
        {
          "output_type": "execute_result",
          "data": {
            "text/plain": [
              "1.0"
            ]
          },
          "metadata": {},
          "execution_count": 29
        }
      ]
    },
    {
      "cell_type": "code",
      "source": [
        "dtc_score_test = dtc.score(x_test, y_test)\n",
        "dtc_score_test"
      ],
      "metadata": {
        "colab": {
          "base_uri": "https://localhost:8080/"
        },
        "id": "mqdfLpIgkGhV",
        "outputId": "f137dd92-f83e-42d2-f7c2-bf526037039b"
      },
      "execution_count": 30,
      "outputs": [
        {
          "output_type": "execute_result",
          "data": {
            "text/plain": [
              "0.9968017057569296"
            ]
          },
          "metadata": {},
          "execution_count": 30
        }
      ]
    },
    {
      "cell_type": "code",
      "source": [
        "y_pred_dtc = dtc.predict(x_test)"
      ],
      "metadata": {
        "id": "e4Fe3BtzlSVS"
      },
      "execution_count": 31,
      "outputs": []
    },
    {
      "cell_type": "code",
      "source": [
        "MSE_dtc = mean_squared_error(y_test, y_pred_dtc, squared = True)\n",
        "print(MSE_dtc)"
      ],
      "metadata": {
        "colab": {
          "base_uri": "https://localhost:8080/"
        },
        "id": "CNlZBnLDkGl0",
        "outputId": "f212a3ff-462b-4052-ba3c-b9399b9f6d84"
      },
      "execution_count": 32,
      "outputs": [
        {
          "output_type": "stream",
          "name": "stdout",
          "text": [
            "0.0031982942430703624\n"
          ]
        }
      ]
    },
    {
      "cell_type": "code",
      "source": [
        "RMSE_dtc = mean_squared_error(y_test, y_pred_dtc, squared = False)\n",
        "print(RMSE_dtc)"
      ],
      "metadata": {
        "colab": {
          "base_uri": "https://localhost:8080/"
        },
        "id": "lYJRqrOZlS6Q",
        "outputId": "98e543f5-dfc7-4de4-ae3d-7cd1a1c9ddf9"
      },
      "execution_count": 33,
      "outputs": [
        {
          "output_type": "stream",
          "name": "stdout",
          "text": [
            "0.056553463581555836\n"
          ]
        }
      ]
    },
    {
      "cell_type": "code",
      "source": [
        "cm_dtc = confusion_matrix(y_test, y_pred_dtc)\n",
        "print(cm_dtc)"
      ],
      "metadata": {
        "colab": {
          "base_uri": "https://localhost:8080/"
        },
        "id": "Vprc-FJSgXP3",
        "outputId": "28aa3245-eeaf-46f8-a7e8-295cc6f05059"
      },
      "execution_count": 34,
      "outputs": [
        {
          "output_type": "stream",
          "name": "stdout",
          "text": [
            "[[785   2]\n",
            " [  1 150]]\n"
          ]
        }
      ]
    },
    {
      "cell_type": "code",
      "source": [
        "cr_dtc = classification_report(y_test, y_pred_dtc)\n",
        "print(cr_dtc)"
      ],
      "metadata": {
        "colab": {
          "base_uri": "https://localhost:8080/"
        },
        "id": "BsGnIZ8ZgXWR",
        "outputId": "21085990-6398-4a24-8814-925b45e99c99"
      },
      "execution_count": 35,
      "outputs": [
        {
          "output_type": "stream",
          "name": "stdout",
          "text": [
            "              precision    recall  f1-score   support\n",
            "\n",
            "           0       1.00      1.00      1.00       787\n",
            "           1       0.99      0.99      0.99       151\n",
            "\n",
            "    accuracy                           1.00       938\n",
            "   macro avg       0.99      1.00      0.99       938\n",
            "weighted avg       1.00      1.00      1.00       938\n",
            "\n"
          ]
        }
      ]
    },
    {
      "cell_type": "markdown",
      "source": [
        "## Support Vector Classification"
      ],
      "metadata": {
        "id": "6sfAvqfZm8J3"
      }
    },
    {
      "cell_type": "markdown",
      "source": [
        "`svc` is a variable that holds the `SVC()` model. It is fit with `x_train` and `y_train`. The current scores shows that the model is very accurate and is not entirely overfitted or underfitted since both the training and testing scores are between 97% and 94%. The MSE evaluates the performance and the RMSE is used to measure the model performance. The MSE is very small, meaning that the logistic regression model is very accurate. The RMSE is also small, but not as small as previous models being around 0.24. The confusion matrix shows that it did well finding true positives and true negatives, yet still had some error and found around 18 false positives and around 35 false negatives. The classification report shows that the random forest model did a better job of finding the 0's (not hazardous), not the 1's (hazardous)."
      ],
      "metadata": {
        "id": "9sPOyXcNyDGb"
      }
    },
    {
      "cell_type": "code",
      "source": [
        "svc = SVC()\n",
        "svc.fit(x_train, y_train)"
      ],
      "metadata": {
        "colab": {
          "base_uri": "https://localhost:8080/"
        },
        "id": "MdjR83GNm8U9",
        "outputId": "ceb05caa-877f-4c44-91cb-a7daad3146ba"
      },
      "execution_count": 36,
      "outputs": [
        {
          "output_type": "execute_result",
          "data": {
            "text/plain": [
              "SVC()"
            ]
          },
          "metadata": {},
          "execution_count": 36
        }
      ]
    },
    {
      "cell_type": "code",
      "source": [
        "svc_score_train = svc.score(x_train, y_train)\n",
        "svc_score_train"
      ],
      "metadata": {
        "colab": {
          "base_uri": "https://localhost:8080/"
        },
        "id": "sdtyfgG8pBg8",
        "outputId": "ce0c6c23-108e-4179-8d76-15489f878561"
      },
      "execution_count": 37,
      "outputs": [
        {
          "output_type": "execute_result",
          "data": {
            "text/plain": [
              "0.9642571352360629"
            ]
          },
          "metadata": {},
          "execution_count": 37
        }
      ]
    },
    {
      "cell_type": "code",
      "source": [
        "svc_score_test = svc.score(x_test, y_test)\n",
        "svc_score_test"
      ],
      "metadata": {
        "colab": {
          "base_uri": "https://localhost:8080/"
        },
        "id": "EmglH9L6m8ZM",
        "outputId": "3083fab7-a0e9-44f0-8858-ea0add54c13b"
      },
      "execution_count": 38,
      "outputs": [
        {
          "output_type": "execute_result",
          "data": {
            "text/plain": [
              "0.9434968017057569"
            ]
          },
          "metadata": {},
          "execution_count": 38
        }
      ]
    },
    {
      "cell_type": "code",
      "source": [
        "y_pred_svc = svc.predict(x_test)"
      ],
      "metadata": {
        "id": "pVWNdYmYp9FD"
      },
      "execution_count": 39,
      "outputs": []
    },
    {
      "cell_type": "code",
      "source": [
        "MSE_svc = mean_squared_error(y_test, y_pred_svc, squared = True)\n",
        "print(MSE_svc)"
      ],
      "metadata": {
        "colab": {
          "base_uri": "https://localhost:8080/"
        },
        "id": "ap2rGxxem8df",
        "outputId": "8d49a8f8-9310-4ae9-f21d-3fc359c0d0bb"
      },
      "execution_count": 40,
      "outputs": [
        {
          "output_type": "stream",
          "name": "stdout",
          "text": [
            "0.05650319829424307\n"
          ]
        }
      ]
    },
    {
      "cell_type": "code",
      "source": [
        "RMSE_svc = mean_squared_error(y_test, y_pred_svc, squared = False)\n",
        "print(RMSE_svc)"
      ],
      "metadata": {
        "colab": {
          "base_uri": "https://localhost:8080/"
        },
        "id": "a2egIiKfm8kg",
        "outputId": "e03e6f15-bb57-466b-f32f-b8b18a52013c"
      },
      "execution_count": 41,
      "outputs": [
        {
          "output_type": "stream",
          "name": "stdout",
          "text": [
            "0.23770401404739272\n"
          ]
        }
      ]
    },
    {
      "cell_type": "code",
      "source": [
        "cm_svc = confusion_matrix(y_test, y_pred_svc)\n",
        "print(cm_svc)"
      ],
      "metadata": {
        "colab": {
          "base_uri": "https://localhost:8080/"
        },
        "id": "T4EYNwShgmMl",
        "outputId": "c6938449-484d-4b4a-b9cd-62c92ce2ad7b"
      },
      "execution_count": 42,
      "outputs": [
        {
          "output_type": "stream",
          "name": "stdout",
          "text": [
            "[[769  18]\n",
            " [ 35 116]]\n"
          ]
        }
      ]
    },
    {
      "cell_type": "code",
      "source": [
        "cr_svc = classification_report(y_test, y_pred_svc)\n",
        "print(cr_svc)"
      ],
      "metadata": {
        "colab": {
          "base_uri": "https://localhost:8080/"
        },
        "id": "-BuPcYFOgmUP",
        "outputId": "a96c7d62-cadd-45ad-97b9-7fb0c65a80c0"
      },
      "execution_count": 43,
      "outputs": [
        {
          "output_type": "stream",
          "name": "stdout",
          "text": [
            "              precision    recall  f1-score   support\n",
            "\n",
            "           0       0.96      0.98      0.97       787\n",
            "           1       0.87      0.77      0.81       151\n",
            "\n",
            "    accuracy                           0.94       938\n",
            "   macro avg       0.91      0.87      0.89       938\n",
            "weighted avg       0.94      0.94      0.94       938\n",
            "\n"
          ]
        }
      ]
    },
    {
      "cell_type": "markdown",
      "source": [
        "## MLP"
      ],
      "metadata": {
        "id": "flnAZBwxu7dG"
      }
    },
    {
      "cell_type": "markdown",
      "source": [
        "`mlp` is a variable that holds the MLP `Sequential()` model. It has 3 Dense layers where two layers have activation `relu` and the final layer has activation `sigmoid`. The model is compiled and `history` is fit with `x_train` and `y_train`, validation data being `x_test` and `y_test`, epochs equal to 150, and batch size equal to 32. The loss is 0.05% and the accuracy is 0.99%. This shows that the model is very accurate. The MSE evaluates the performance and the RMSE is used to measure the model performance. The MSE is very small, meaning that the logistic regression model is very accurate. The RMSE is also fairly small, yet not the smallest of the models. The confusion matrix shows that it did well finding true positives and true negatives, yet still had some error and found 4-5 false positives and 8 false negatives. The classification report shows that the random forest model did a good job of finding both the 0's (not hazardous) and 1's (hazardous)."
      ],
      "metadata": {
        "id": "SPHgmpsbykji"
      }
    },
    {
      "cell_type": "code",
      "source": [
        "n_features = x_train.shape[1]\n",
        "print(n_features)"
      ],
      "metadata": {
        "id": "cKN3pOTIu7q5",
        "colab": {
          "base_uri": "https://localhost:8080/"
        },
        "outputId": "0bb6b810-fde8-4df8-b2e3-a83a8554ef8a"
      },
      "execution_count": 44,
      "outputs": [
        {
          "output_type": "stream",
          "name": "stdout",
          "text": [
            "39\n"
          ]
        }
      ]
    },
    {
      "cell_type": "code",
      "source": [
        "model = Sequential()\n",
        "model.add(Dense(10, activation = 'relu', input_shape = (n_features, )))\n",
        "model.add(Dense(8, activation = 'relu'))\n",
        "model.add(Dense(1, activation = 'sigmoid'))"
      ],
      "metadata": {
        "id": "2VXYSihgu7wW"
      },
      "execution_count": 45,
      "outputs": []
    },
    {
      "cell_type": "code",
      "source": [
        "model.compile(optimizer = 'adam', loss = 'binary_crossentropy', metrics = ['accuracy'])"
      ],
      "metadata": {
        "id": "zp9WZBnRu7zt"
      },
      "execution_count": 46,
      "outputs": []
    },
    {
      "cell_type": "code",
      "source": [
        "history = model.fit(x_train, y_train, epochs = 150, validation_data = (x_test, y_test), batch_size = 32, verbose = 0)"
      ],
      "metadata": {
        "id": "AnG24f_1vopq"
      },
      "execution_count": 47,
      "outputs": []
    },
    {
      "cell_type": "code",
      "source": [
        "y_pred_mlp = model.predict(x_test)\n",
        "y_pred_mlp = (y_pred_mlp > 0.5)"
      ],
      "metadata": {
        "colab": {
          "base_uri": "https://localhost:8080/"
        },
        "id": "8V95cZzbkHX3",
        "outputId": "65327984-8915-41de-9df6-eabe91dddbdc"
      },
      "execution_count": 48,
      "outputs": [
        {
          "output_type": "stream",
          "name": "stdout",
          "text": [
            "30/30 [==============================] - 0s 1ms/step\n"
          ]
        }
      ]
    },
    {
      "cell_type": "code",
      "source": [
        "MSE_mlp = mean_squared_error(y_test, y_pred_mlp, squared = True)\n",
        "print(MSE_mlp)"
      ],
      "metadata": {
        "colab": {
          "base_uri": "https://localhost:8080/"
        },
        "id": "Hs1LiIvuj7Nc",
        "outputId": "6af8f9ae-1a44-423e-f902-662e658794c2"
      },
      "execution_count": 49,
      "outputs": [
        {
          "output_type": "stream",
          "name": "stdout",
          "text": [
            "0.015991471215351813\n"
          ]
        }
      ]
    },
    {
      "cell_type": "code",
      "source": [
        "RMSE_mlp = mean_squared_error(y_test, y_pred_mlp, squared = False)\n",
        "print(RMSE_mlp)"
      ],
      "metadata": {
        "colab": {
          "base_uri": "https://localhost:8080/"
        },
        "id": "m0Nque3yj7V4",
        "outputId": "c3d02a4b-2435-4ffe-ac49-f93ca4252e56"
      },
      "execution_count": 50,
      "outputs": [
        {
          "output_type": "stream",
          "name": "stdout",
          "text": [
            "0.12645738893141759\n"
          ]
        }
      ]
    },
    {
      "cell_type": "code",
      "source": [
        "loss, acc = model.evaluate(x_test, y_test, verbose = 0)\n",
        "print(f'Loss Value: {loss}')\n",
        "print(f'Accuracy Value: {acc}')"
      ],
      "metadata": {
        "colab": {
          "base_uri": "https://localhost:8080/"
        },
        "id": "_5j6HQk7bjoN",
        "outputId": "214e9f0e-dd4a-4365-aa9d-d939d1f64ec1"
      },
      "execution_count": 51,
      "outputs": [
        {
          "output_type": "stream",
          "name": "stdout",
          "text": [
            "Loss Value: 0.06221102178096771\n",
            "Accuracy Value: 0.9840085506439209\n"
          ]
        }
      ]
    },
    {
      "cell_type": "code",
      "source": [
        "plt.title('Loss')\n",
        "plt.plot(history.history['loss'], label = 'train')\n",
        "plt.plot(history.history['val_loss'], label = 'test')\n",
        "plt.legend()\n",
        "plt.show()"
      ],
      "metadata": {
        "colab": {
          "base_uri": "https://localhost:8080/",
          "height": 281
        },
        "id": "CkdA6cKEvo-B",
        "outputId": "517ac9ca-5da5-4db5-900d-272d88b912a8"
      },
      "execution_count": 52,
      "outputs": [
        {
          "output_type": "display_data",
          "data": {
            "text/plain": [
              "<Figure size 432x288 with 1 Axes>"
            ],
            "image/png": "[encoded data removed]"
          },
          "metadata": {
            "needs_background": "light"
          }
        }
      ]
    },
    {
      "cell_type": "code",
      "source": [
        "plt.title('Accuracy')\n",
        "plt.plot(history.history['accuracy'], label = 'train')\n",
        "plt.plot(history.history['val_accuracy'], label = 'test')\n",
        "plt.legend()\n",
        "plt.show()"
      ],
      "metadata": {
        "colab": {
          "base_uri": "https://localhost:8080/",
          "height": 281
        },
        "id": "MuGMMXwbbWpB",
        "outputId": "0c92d9df-31d7-4d67-e6aa-f6cef07211ce"
      },
      "execution_count": 53,
      "outputs": [
        {
          "output_type": "display_data",
          "data": {
            "text/plain": [
              "<Figure size 432x288 with 1 Axes>"
            ],
            "image/png": "[encoded data removed]"
          },
          "metadata": {
            "needs_background": "light"
          }
        }
      ]
    },
    {
      "cell_type": "code",
      "source": [
        "cm_mlp = confusion_matrix(y_test, y_pred_mlp)\n",
        "print(cm_mlp)"
      ],
      "metadata": {
        "colab": {
          "base_uri": "https://localhost:8080/"
        },
        "id": "XUKFnVhgfSjT",
        "outputId": "43399309-8437-4fc1-b10f-6845b122caaa"
      },
      "execution_count": 54,
      "outputs": [
        {
          "output_type": "stream",
          "name": "stdout",
          "text": [
            "[[779   8]\n",
            " [  7 144]]\n"
          ]
        }
      ]
    },
    {
      "cell_type": "code",
      "source": [
        "cr_mlp = classification_report(y_test, y_pred_mlp)\n",
        "print(cr_mlp)"
      ],
      "metadata": {
        "colab": {
          "base_uri": "https://localhost:8080/"
        },
        "id": "XtOyKCwIfYE6",
        "outputId": "45780c7e-3287-4f90-be67-4cab83e9b23b"
      },
      "execution_count": 55,
      "outputs": [
        {
          "output_type": "stream",
          "name": "stdout",
          "text": [
            "              precision    recall  f1-score   support\n",
            "\n",
            "           0       0.99      0.99      0.99       787\n",
            "           1       0.95      0.95      0.95       151\n",
            "\n",
            "    accuracy                           0.98       938\n",
            "   macro avg       0.97      0.97      0.97       938\n",
            "weighted avg       0.98      0.98      0.98       938\n",
            "\n"
          ]
        }
      ]
    },
    {
      "cell_type": "markdown",
      "source": [
        "## Pretty Table"
      ],
      "metadata": {
        "id": "1xH8bjq_M4Yt"
      }
    },
    {
      "cell_type": "markdown",
      "source": [
        "A pretty table is created here to observe all the data from the various models and compare them to one another in a table. All of the data is easily readable and comparable as seen below."
      ],
      "metadata": {
        "id": "YMtLWN700ASE"
      }
    },
    {
      "cell_type": "code",
      "source": [
        "myTable = PrettyTable(['Technique and Classifier', 'Training Score', 'Testing Score', 'MSE', 'RMSE', 'Loss', 'Accuracy', 'Confusion Matrix', 'Classification Report'])\n",
        "myTable.add_row(['Logistic Regression', lr_score_train, lr_score_test, MSE_lr, RMSE_lr, 'N/A', 'N/A', cm_lr, cr_lr])\n",
        "myTable.add_row(['Random Forest Classification', rfc_score_train, rfc_score_test, MSE_rfc, RMSE_rfc, 'N/A', 'N/A', cm_rfc, cr_rfc])\n",
        "myTable.add_row(['Decision Tree Classification', dtc_score_train, dtc_score_test, MSE_dtc, RMSE_dtc, 'N/A', 'N/A', cm_dtc, cr_dtc])\n",
        "myTable.add_row(['Support Vector Classification', svc_score_train, svc_score_test, MSE_svc, RMSE_svc, 'N/A', 'N/A', cm_svc, cr_svc])\n",
        "myTable.add_row(['MLP', 'N/A', 'N/A', MSE_mlp, RMSE_mlp, loss, acc, cm_mlp, cr_mlp])"
      ],
      "metadata": {
        "id": "NsahvUiMMtca"
      },
      "execution_count": 56,
      "outputs": []
    },
    {
      "cell_type": "code",
      "source": [
        "print(myTable)"
      ],
      "metadata": {
        "colab": {
          "base_uri": "https://localhost:8080/"
        },
        "id": "7qkjn1a4w5Ua",
        "outputId": "a8fecc3e-b642-4064-f237-871b67c7370d"
      },
      "execution_count": 57,
      "outputs": [
        {
          "output_type": "stream",
          "name": "stdout",
          "text": [
            "+-------------------------------+--------------------+--------------------+-----------------------+----------------------+---------------------+--------------------+------------------+-------------------------------------------------------+\n",
            "|    Technique and Classifier   |   Training Score   |   Testing Score    |          MSE          |         RMSE         |         Loss        |      Accuracy      | Confusion Matrix |                 Classification Report                 |\n",
            "+-------------------------------+--------------------+--------------------+-----------------------+----------------------+---------------------+--------------------+------------------+-------------------------------------------------------+\n",
            "|      Logistic Regression      | 0.9594558548946386 | 0.9573560767590619 |  0.042643923240938165 | 0.20650405139110023  |         N/A         |        N/A         |    [[767  20]    |               precision    recall  f1-score   support |\n",
            "|                               |                    |                    |                       |                      |                     |                    |    [ 20 131]]    |                                                       |\n",
            "|                               |                    |                    |                       |                      |                     |                    |                  |            0       0.97      0.97      0.97       787 |\n",
            "|                               |                    |                    |                       |                      |                     |                    |                  |            1       0.87      0.87      0.87       151 |\n",
            "|                               |                    |                    |                       |                      |                     |                    |                  |                                                       |\n",
            "|                               |                    |                    |                       |                      |                     |                    |                  |     accuracy                           0.96       938 |\n",
            "|                               |                    |                    |                       |                      |                     |                    |                  |    macro avg       0.92      0.92      0.92       938 |\n",
            "|                               |                    |                    |                       |                      |                     |                    |                  | weighted avg       0.96      0.96      0.96       938 |\n",
            "|                               |                    |                    |                       |                      |                     |                    |                  |                                                       |\n",
            "|  Random Forest Classification |        1.0         | 0.9946695095948828 |  0.005330490405117271 | 0.07301020754057114  |         N/A         |        N/A         |    [[784   3]    |               precision    recall  f1-score   support |\n",
            "|                               |                    |                    |                       |                      |                     |                    |    [  2 149]]    |                                                       |\n",
            "|                               |                    |                    |                       |                      |                     |                    |                  |            0       1.00      1.00      1.00       787 |\n",
            "|                               |                    |                    |                       |                      |                     |                    |                  |            1       0.98      0.99      0.98       151 |\n",
            "|                               |                    |                    |                       |                      |                     |                    |                  |                                                       |\n",
            "|                               |                    |                    |                       |                      |                     |                    |                  |     accuracy                           0.99       938 |\n",
            "|                               |                    |                    |                       |                      |                     |                    |                  |    macro avg       0.99      0.99      0.99       938 |\n",
            "|                               |                    |                    |                       |                      |                     |                    |                  | weighted avg       0.99      0.99      0.99       938 |\n",
            "|                               |                    |                    |                       |                      |                     |                    |                  |                                                       |\n",
            "|  Decision Tree Classification |        1.0         | 0.9968017057569296 | 0.0031982942430703624 | 0.056553463581555836 |         N/A         |        N/A         |    [[785   2]    |               precision    recall  f1-score   support |\n",
            "|                               |                    |                    |                       |                      |                     |                    |    [  1 150]]    |                                                       |\n",
            "|                               |                    |                    |                       |                      |                     |                    |                  |            0       1.00      1.00      1.00       787 |\n",
            "|                               |                    |                    |                       |                      |                     |                    |                  |            1       0.99      0.99      0.99       151 |\n",
            "|                               |                    |                    |                       |                      |                     |                    |                  |                                                       |\n",
            "|                               |                    |                    |                       |                      |                     |                    |                  |     accuracy                           1.00       938 |\n",
            "|                               |                    |                    |                       |                      |                     |                    |                  |    macro avg       0.99      1.00      0.99       938 |\n",
            "|                               |                    |                    |                       |                      |                     |                    |                  | weighted avg       1.00      1.00      1.00       938 |\n",
            "|                               |                    |                    |                       |                      |                     |                    |                  |                                                       |\n",
            "| Support Vector Classification | 0.9642571352360629 | 0.9434968017057569 |  0.05650319829424307  | 0.23770401404739272  |         N/A         |        N/A         |    [[769  18]    |               precision    recall  f1-score   support |\n",
            "|                               |                    |                    |                       |                      |                     |                    |    [ 35 116]]    |                                                       |\n",
            "|                               |                    |                    |                       |                      |                     |                    |                  |            0       0.96      0.98      0.97       787 |\n",
            "|                               |                    |                    |                       |                      |                     |                    |                  |            1       0.87      0.77      0.81       151 |\n",
            "|                               |                    |                    |                       |                      |                     |                    |                  |                                                       |\n",
            "|                               |                    |                    |                       |                      |                     |                    |                  |     accuracy                           0.94       938 |\n",
            "|                               |                    |                    |                       |                      |                     |                    |                  |    macro avg       0.91      0.87      0.89       938 |\n",
            "|                               |                    |                    |                       |                      |                     |                    |                  | weighted avg       0.94      0.94      0.94       938 |\n",
            "|                               |                    |                    |                       |                      |                     |                    |                  |                                                       |\n",
            "|              MLP              |        N/A         |        N/A         |  0.015991471215351813 | 0.12645738893141759  | 0.06221102178096771 | 0.9840085506439209 |    [[779   8]    |               precision    recall  f1-score   support |\n",
            "|                               |                    |                    |                       |                      |                     |                    |    [  7 144]]    |                                                       |\n",
            "|                               |                    |                    |                       |                      |                     |                    |                  |            0       0.99      0.99      0.99       787 |\n",
            "|                               |                    |                    |                       |                      |                     |                    |                  |            1       0.95      0.95      0.95       151 |\n",
            "|                               |                    |                    |                       |                      |                     |                    |                  |                                                       |\n",
            "|                               |                    |                    |                       |                      |                     |                    |                  |     accuracy                           0.98       938 |\n",
            "|                               |                    |                    |                       |                      |                     |                    |                  |    macro avg       0.97      0.97      0.97       938 |\n",
            "|                               |                    |                    |                       |                      |                     |                    |                  | weighted avg       0.98      0.98      0.98       938 |\n",
            "|                               |                    |                    |                       |                      |                     |                    |                  |                                                       |\n",
            "+-------------------------------+--------------------+--------------------+-----------------------+----------------------+---------------------+--------------------+------------------+-------------------------------------------------------+\n"
          ]
        }
      ]
    },
    {
      "cell_type": "code",
      "source": [
        "myTable1 = PrettyTable(['Technique and Classifier', 'Training Score', 'Testing Score', 'MSE', 'RMSE', 'Loss', 'Accuracy'])\n",
        "myTable1.add_row(['Logistic Regression', lr_score_train, lr_score_test, MSE_lr, RMSE_lr, 'N/A', 'N/A'])\n",
        "myTable1.add_row(['Random Forest Classification', rfc_score_train, rfc_score_test, MSE_rfc, RMSE_rfc, 'N/A', 'N/A'])\n",
        "myTable1.add_row(['Decision Tree Classification', dtc_score_train, dtc_score_test, MSE_dtc, RMSE_dtc, 'N/A', 'N/A'])\n",
        "myTable1.add_row(['Support Vector Classification', svc_score_train, svc_score_test, MSE_svc, RMSE_svc, 'N/A', 'N/A'])\n",
        "myTable1.add_row(['MLP', 'N/A', 'N/A', MSE_mlp, RMSE_mlp, loss, acc])"
      ],
      "metadata": {
        "id": "huTGvJBmw6oK"
      },
      "execution_count": 58,
      "outputs": []
    },
    {
      "cell_type": "code",
      "source": [
        "print(myTable1)"
      ],
      "metadata": {
        "colab": {
          "base_uri": "https://localhost:8080/"
        },
        "id": "85IfakQNlW4T",
        "outputId": "17a55887-522d-48f8-fdc2-f0b4f731fd03"
      },
      "execution_count": 59,
      "outputs": [
        {
          "output_type": "stream",
          "name": "stdout",
          "text": [
            "+-------------------------------+--------------------+--------------------+-----------------------+----------------------+---------------------+--------------------+\n",
            "|    Technique and Classifier   |   Training Score   |   Testing Score    |          MSE          |         RMSE         |         Loss        |      Accuracy      |\n",
            "+-------------------------------+--------------------+--------------------+-----------------------+----------------------+---------------------+--------------------+\n",
            "|      Logistic Regression      | 0.9594558548946386 | 0.9573560767590619 |  0.042643923240938165 | 0.20650405139110023  |         N/A         |        N/A         |\n",
            "|  Random Forest Classification |        1.0         | 0.9946695095948828 |  0.005330490405117271 | 0.07301020754057114  |         N/A         |        N/A         |\n",
            "|  Decision Tree Classification |        1.0         | 0.9968017057569296 | 0.0031982942430703624 | 0.056553463581555836 |         N/A         |        N/A         |\n",
            "| Support Vector Classification | 0.9642571352360629 | 0.9434968017057569 |  0.05650319829424307  | 0.23770401404739272  |         N/A         |        N/A         |\n",
            "|              MLP              |        N/A         |        N/A         |  0.015991471215351813 | 0.12645738893141759  | 0.06221102178096771 | 0.9840085506439209 |\n",
            "+-------------------------------+--------------------+--------------------+-----------------------+----------------------+---------------------+--------------------+\n"
          ]
        }
      ]
    },
    {
      "cell_type": "markdown",
      "source": [
        "## Final Results"
      ],
      "metadata": {
        "id": "9W0u8jYz00Ze"
      }
    },
    {
      "cell_type": "markdown",
      "source": [
        "The results show that the Decision Tree Classifier is the best for this model since the training and testing scores are around 100% and the MSE and RMSE have the lowest scores of around 0.003 and 0.057. The Classification Report also shows that the model does a great job of finding both the 0's and 1's. The Confusion Matrix shows that the model only found 2 false positives and 1 false negative which is very accurate. Overall, the scores show that the Decision Tree Classifier is the most accurate model."
      ],
      "metadata": {
        "id": "4BonUIOg07UZ"
      }
    }
  ]
}